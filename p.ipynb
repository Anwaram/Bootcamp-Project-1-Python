{
 "cells": [
  {
   "cell_type": "code",
   "execution_count": 1,
   "id": "063c07f4",
   "metadata": {},
   "outputs": [
    {
     "name": "stdout",
     "output_type": "stream",
     "text": [
      "Enter your hight in cm : 170\n",
      "Enter your whight in kg : 50\n",
      "Enter you're gender (f or m) : f\n",
      "Your BMI is  17.3 your weight is in the underweight category \n",
      "For your height, a healthy weight would be between 57 and 73 kilograms\n"
     ]
    }
   ],
   "source": [
    "\n",
    "def ranges(b):\n",
    "    ls = ['underweight','healthy','overweight','obese']\n",
    "    if b < 18.5 :\n",
    "        r = ls[0]\n",
    "    elif 18.5 < b < 24.9 :\n",
    "        r = ls[1]\n",
    "    elif 25 < b < 30 :\n",
    "        r = ls[2]\n",
    "    else: \n",
    "        r = ls[3]\n",
    "    return r\n",
    "\n",
    "def idealw(h):\n",
    "    h *= 100\n",
    "    w = 50 + (0.91 * (h-152.4))\n",
    "    return w\n",
    "\n",
    "try:\n",
    "    h = int(input(\"Enter your hight in cm : \"))\n",
    "    w = int(input(\"Enter your whight in kg : \"))\n",
    "    while(True):\n",
    "        g = str(input(\"Enter you're gender (f or m) : \"))\n",
    "        if g == 'f':\n",
    "            gender = 'f'  \n",
    "            break    \n",
    "        elif g == 'm':\n",
    "            gender = 'm'\n",
    "            break\n",
    "        else:\n",
    "            print('you can only choese f or m ')\n",
    "except:\n",
    "    print('Enter integers only ')\n",
    "\n",
    "h /= 100\n",
    "cal = lambda h, w : w / (h*h)\n",
    "bmi = cal(h,w)\n",
    "bmi = round(bmi, 2)  \n",
    "range = ranges(bmi)\n",
    "if g == 'f':\n",
    "    idealWeight = idealw(h)-0.5\n",
    "else :\n",
    "    idealWeight = idealw(h)\n",
    "print('Your BMI is ',bmi,'your weight is in the', ranges(bmi) ,'category','\\nFor your height, a healthy weight would be between',int(idealWeight-8),'and',int(idealWeight+8),'kilograms')"
   ]
  },
  {
   "cell_type": "code",
   "execution_count": null,
   "id": "76678482",
   "metadata": {},
   "outputs": [],
   "source": []
  }
 ],
 "metadata": {
  "kernelspec": {
   "display_name": "Python 3 (ipykernel)",
   "language": "python",
   "name": "python3"
  },
  "language_info": {
   "codemirror_mode": {
    "name": "ipython",
    "version": 3
   },
   "file_extension": ".py",
   "mimetype": "text/x-python",
   "name": "python",
   "nbconvert_exporter": "python",
   "pygments_lexer": "ipython3",
   "version": "3.9.13"
  }
 },
 "nbformat": 4,
 "nbformat_minor": 5
}
